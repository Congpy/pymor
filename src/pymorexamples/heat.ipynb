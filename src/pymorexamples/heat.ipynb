{
 "cells": [
  {
   "cell_type": "raw",
   "metadata": {},
   "source": [
    "This file is part of the pyMOR project (http://www.pymor.org).\n",
    "Copyright 2013-2016 pyMOR developers and contributors. All rights reserved.\n",
    "License: BSD 2-Clause License (http://opensource.org/licenses/BSD-2-Clause)"
   ]
  },
  {
   "cell_type": "markdown",
   "metadata": {},
   "source": [
    "# Heat equation example"
   ]
  },
  {
   "cell_type": "markdown",
   "metadata": {},
   "source": [
    "## Analytic problem formulation\n",
    "\n",
    "We consider the heat equation on segment $[0, 1]$, with dissipation on both sides, heating (input) $u$ on the left side, and measurement (output) $\\tilde{y}$ on the right side:\n",
    "$$\n",
    "\\begin{align*}\n",
    "    \\partial_t z(x, t) & = \\partial_{xx} z(x, t), & 0 < x < 1,\\ t > 0, \\\\\n",
    "    \\partial_x z(0, t) & = z(0, t) - u(t), & t > 0 \\\\\n",
    "    \\partial_x z(1, t) & = -z(1, t), & t > 0, \\\\\n",
    "    \\tilde{y}(t) & = z(1, t), & t > 0.\n",
    "\\end{align*}\n",
    "$$\n",
    "\n",
    "## Semidiscretized formulation\n",
    "\n",
    "By central finite differences on the equidistant mesh $0 = x_1 < x_2 < \\ldots < x_n = 1$, we obtain the semidiscretized formulation:\n",
    "$$\n",
    "\\begin{align*}\n",
    "    \\partial_t z_i(t) & = \\frac{z_{i - 1}(t) - 2 z_i(t) + z_{i + 1}(t)}{h^2}, & i = 1, 2, 3, \\ldots, n - 1, n, \\\\\n",
    "    \\frac{z_2(t) - z_0(t)}{2 h} & = z_1(t) - u(t), \\\\\n",
    "    \\frac{z_{n + 1}(t) - z_{n - 1}(t)}{2 h} & = -z_n(t), \\\\\n",
    "    y(t) & = z_n(t),\n",
    "\\end{align*}\n",
    "$$\n",
    "where $h = \\frac{1}{n - 1}$, $z_i(t)$ approximates $z(x_i, t)$, and $y(t)$ approximates $\\tilde{y}(t)$.\n",
    "\n",
    "Separating cases $i = 1$ and $i = n$ in the first equation, we find:\n",
    "$$\n",
    "\\begin{align*}\n",
    "    \\partial_t z_1(t) & = -2 n (n - 1) z_1(t) + 2 (n - 1)^2 z_2(t) + 2 (n - 1) u(t), \\\\\n",
    "    \\partial_t z_i(t) & = (n - 1)^2 z_{i - 1}(t) - 2 (n - 1)^2 z_i(t) + (n - 1)^2 z_{i + 1}(t),\n",
    "    & i = 2, 3, \\ldots, n - 1, \\\\\n",
    "    \\partial_t z_n(t) & = (n - 1)^2 z_{n - 1}(t) - 2 n (n - 1)  z_n(t), \\\\\n",
    "    y(t) & = z_n(t),\n",
    "\\end{align*}\n",
    "$$"
   ]
  },
  {
   "cell_type": "markdown",
   "metadata": {},
   "source": [
    "## Import modules"
   ]
  },
  {
   "cell_type": "code",
   "execution_count": null,
   "metadata": {
    "collapsed": false
   },
   "outputs": [],
   "source": [
    "from __future__ import absolute_import, division, print_function\n",
    "\n",
    "import numpy as np\n",
    "import matplotlib.pyplot as plt\n",
    "%matplotlib inline\n",
    "\n",
    "from pymor.discretizations.iosys import LTISystem\n",
    "from pymor.reductors.bt import bt\n",
    "from pymor.reductors.lti import irka\n",
    "\n",
    "import logging\n",
    "logging.getLogger('pymor.algorithms.gram_schmidt.gram_schmidt').setLevel(logging.ERROR)"
   ]
  },
  {
   "cell_type": "markdown",
   "metadata": {},
   "source": [
    "## Assemble $A$, $B$,  and $C$"
   ]
  },
  {
   "cell_type": "code",
   "execution_count": null,
   "metadata": {
    "collapsed": false
   },
   "outputs": [],
   "source": [
    "n = 100  # dimension of the system\n",
    "\n",
    "A = np.zeros((n, n))\n",
    "a = n * (n - 1)\n",
    "b = (n - 1) ** 2\n",
    "A[0, 0] = -2 * a\n",
    "A[0, 1] = 2 * b\n",
    "for i in range(1, n - 1):\n",
    "    A[i, i - 1] = b\n",
    "    A[i, i] = -2 * b\n",
    "    A[i, i + 1] = b\n",
    "A[-1, -2] = 2 * b\n",
    "A[-1, -1] = -2 * a\n",
    "\n",
    "B = np.zeros((n, 1))\n",
    "B[0, 0] = 2 * (n - 1)\n",
    "\n",
    "C = np.zeros((1, n))\n",
    "C[0, n - 1] = 1"
   ]
  },
  {
   "cell_type": "markdown",
   "metadata": {},
   "source": [
    "## LTI system"
   ]
  },
  {
   "cell_type": "code",
   "execution_count": null,
   "metadata": {
    "collapsed": false
   },
   "outputs": [],
   "source": [
    "lti = LTISystem.from_matrices(A, B, C)\n",
    "\n",
    "print('n = {}'.format(lti.n))\n",
    "print('m = {}'.format(lti.m))\n",
    "print('p = {}'.format(lti.p))"
   ]
  },
  {
   "cell_type": "markdown",
   "metadata": {},
   "source": [
    "## System poles"
   ]
  },
  {
   "cell_type": "code",
   "execution_count": null,
   "metadata": {
    "collapsed": false
   },
   "outputs": [],
   "source": [
    "lti.compute_poles()\n",
    "poles = lti._poles\n",
    "fig, ax = plt.subplots()\n",
    "ax.plot(poles.real, poles.imag, '.')\n",
    "ax.set_title('System poles')\n",
    "plt.show()"
   ]
  },
  {
   "cell_type": "markdown",
   "metadata": {},
   "source": [
    "## Bode plot of the full model"
   ]
  },
  {
   "cell_type": "code",
   "execution_count": null,
   "metadata": {
    "collapsed": false
   },
   "outputs": [],
   "source": [
    "w = np.logspace(-2, 3, 100)\n",
    "lti.bode(w)\n",
    "fig, ax = LTISystem.mag_plot(lti)\n",
    "ax.set_title('Bode plot of the full model')\n",
    "plt.show()"
   ]
  },
  {
   "cell_type": "markdown",
   "metadata": {},
   "source": [
    "## Hankel singular values"
   ]
  },
  {
   "cell_type": "code",
   "execution_count": null,
   "metadata": {
    "collapsed": false
   },
   "outputs": [],
   "source": [
    "lti.compute_sv_U_V('lyap')\n",
    "fig, ax = plt.subplots()\n",
    "ax.semilogy(range(1, len(lti._sv['lyap']) + 1), lti._sv['lyap'], '.-')\n",
    "ax.set_title('Hankel singular values')\n",
    "plt.show()"
   ]
  },
  {
   "cell_type": "markdown",
   "metadata": {},
   "source": [
    "## Norms of the system"
   ]
  },
  {
   "cell_type": "code",
   "execution_count": null,
   "metadata": {
    "collapsed": false
   },
   "outputs": [],
   "source": [
    "print('H_2-norm of the full model:   {}'.format(lti.norm()))\n",
    "print('H_inf-norm of the full model: {}'.format(lti.norm('Hinf')))"
   ]
  },
  {
   "cell_type": "markdown",
   "metadata": {},
   "source": [
    "## Balanced Truncation (BT)"
   ]
  },
  {
   "cell_type": "code",
   "execution_count": null,
   "metadata": {
    "collapsed": false
   },
   "outputs": [],
   "source": [
    "r = 5\n",
    "rom_bt, _, _ = bt(lti, r)"
   ]
  },
  {
   "cell_type": "code",
   "execution_count": null,
   "metadata": {
    "collapsed": false
   },
   "outputs": [],
   "source": [
    "print('H_2-norm of the BT ROM:       {}'.format(rom_bt.norm()))\n",
    "print('H_inf-norm of the BT ROM:     {}'.format(rom_bt.norm('Hinf')))\n",
    "err_bt = lti - rom_bt\n",
    "print('H_2-error for the BT ROM:     {}'.format(err_bt.norm()))\n",
    "print('H_inf-error for the BT ROM:   {}'.format(err_bt.norm('Hinf')))"
   ]
  },
  {
   "cell_type": "markdown",
   "metadata": {},
   "source": [
    "## Bode plot of the full and BT reduced model"
   ]
  },
  {
   "cell_type": "code",
   "execution_count": null,
   "metadata": {
    "collapsed": false
   },
   "outputs": [],
   "source": [
    "rom_bt.bode(w)\n",
    "fig, ax = LTISystem.mag_plot((lti, rom_bt))\n",
    "ax.set_title('Bode plot of the full and BT reduced model')\n",
    "plt.show()"
   ]
  },
  {
   "cell_type": "markdown",
   "metadata": {},
   "source": [
    "## Bode plot of the BT error system"
   ]
  },
  {
   "cell_type": "code",
   "execution_count": null,
   "metadata": {
    "collapsed": false
   },
   "outputs": [],
   "source": [
    "err_bt.bode(w)\n",
    "fig, ax = LTISystem.mag_plot(err_bt)\n",
    "ax.set_title('Bode plot of the BT error system')\n",
    "plt.show()"
   ]
  },
  {
   "cell_type": "markdown",
   "metadata": {},
   "source": [
    "## Iterative Rational Krylov Algorithm (IRKA)"
   ]
  },
  {
   "cell_type": "code",
   "execution_count": null,
   "metadata": {
    "collapsed": false
   },
   "outputs": [],
   "source": [
    "sigma = np.logspace(-1, 3, r)\n",
    "tol = 1e-4\n",
    "maxit = 100\n",
    "rom_irka, _, reduction_data_irka = irka(lti, r, sigma, tol=tol, maxit=maxit, verbose=True, compute_errors=True)"
   ]
  },
  {
   "cell_type": "code",
   "execution_count": null,
   "metadata": {
    "collapsed": false
   },
   "outputs": [],
   "source": [
    "fig, ax = plt.subplots()\n",
    "ax.semilogy([np.min(d) for d in reduction_data_irka['dist']], '.-')\n",
    "ax.set_title('Distances between shifts in IRKA iterations')\n",
    "plt.show()"
   ]
  },
  {
   "cell_type": "code",
   "execution_count": null,
   "metadata": {
    "collapsed": false
   },
   "outputs": [],
   "source": [
    "print('H_2-norm of the IRKA ROM:     {}'.format(rom_irka.norm()))\n",
    "print('H_inf-norm of the IRKA ROM:   {}'.format(rom_irka.norm('Hinf')))\n",
    "err_irka = lti - rom_irka\n",
    "print('H_2-error for the IRKA ROM:   {}'.format(err_irka.norm()))\n",
    "print('H_inf-error for the IRKA ROM: {}'.format(err_irka.norm('Hinf')))"
   ]
  },
  {
   "cell_type": "markdown",
   "metadata": {},
   "source": [
    "## Bode plot of the full and IRKA reduced model"
   ]
  },
  {
   "cell_type": "code",
   "execution_count": null,
   "metadata": {
    "collapsed": false
   },
   "outputs": [],
   "source": [
    "rom_irka.bode(w)\n",
    "fig, ax = LTISystem.mag_plot((lti, rom_irka))\n",
    "ax.set_title('Bode plot of the full and IRKA reduced model')\n",
    "plt.show()"
   ]
  },
  {
   "cell_type": "markdown",
   "metadata": {},
   "source": [
    "## Bode plot of the IRKA error system"
   ]
  },
  {
   "cell_type": "code",
   "execution_count": null,
   "metadata": {
    "collapsed": false
   },
   "outputs": [],
   "source": [
    "err_irka.bode(w)\n",
    "fig, ax = LTISystem.mag_plot(err_irka)\n",
    "ax.set_title('Bode plot of the IRKA error system')\n",
    "plt.show()"
   ]
  }
 ],
 "metadata": {
  "kernelspec": {
   "display_name": "Python 3",
   "language": "python",
   "name": "python3"
  },
  "language_info": {
   "codemirror_mode": {
    "name": "ipython",
    "version": 3
   },
   "file_extension": ".py",
   "mimetype": "text/x-python",
   "name": "python",
   "nbconvert_exporter": "python",
   "pygments_lexer": "ipython3",
   "version": "3.4.3"
  }
 },
 "nbformat": 4,
 "nbformat_minor": 1
}
