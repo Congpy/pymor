{
 "cells": [
  {
   "cell_type": "code",
   "execution_count": null,
   "metadata": {
    "collapsed": false
   },
   "outputs": [],
   "source": [
    "from __future__ import absolute_import, division, print_function\n",
    "\n",
    "import numpy as np\n",
    "import matplotlib.pyplot as plt\n",
    "%matplotlib inline\n",
    "\n",
    "from pymor.discretizations.iosys import LTISystem\n",
    "from pymor.reductors.bt import bt\n",
    "from pymor.reductors.lti import irka\n",
    "\n",
    "import logging\n",
    "logging.getLogger('pymor.algorithms.gram_schmidt.gram_schmidt').setLevel(logging.ERROR)"
   ]
  },
  {
   "cell_type": "markdown",
   "metadata": {},
   "source": [
    "# Assemble $A$, $B$,  and $C$"
   ]
  },
  {
   "cell_type": "code",
   "execution_count": null,
   "metadata": {
    "collapsed": true
   },
   "outputs": [],
   "source": [
    "n = 100  # dimension of the system\n",
    "\n",
    "A = np.zeros((n, n))\n",
    "a = n * (n - 1)\n",
    "b = (n - 1) ** 2\n",
    "A[0, 0] = -2 * a\n",
    "A[0, 1] = 2 * b\n",
    "for i in range(1, n - 1):\n",
    "    A[i, i - 1] = b\n",
    "    A[i, i] = -2 * b\n",
    "    A[i, i + 1] = b\n",
    "A[-1, -1] = -2 * a\n",
    "A[-1, -2] = 2 * b\n",
    "\n",
    "B = np.zeros((n, 1))\n",
    "B[0, 0] = 2 * (n - 1)\n",
    "\n",
    "C = np.zeros((1, n))\n",
    "C[0, n - 1] = 1"
   ]
  },
  {
   "cell_type": "markdown",
   "metadata": {},
   "source": [
    "# LTI system"
   ]
  },
  {
   "cell_type": "code",
   "execution_count": null,
   "metadata": {
    "collapsed": false
   },
   "outputs": [],
   "source": [
    "lti = LTISystem.from_matrices(A, B, C)\n",
    "\n",
    "print('n = {}'.format(lti.n))\n",
    "print('m = {}'.format(lti.m))\n",
    "print('p = {}'.format(lti.p))"
   ]
  },
  {
   "cell_type": "markdown",
   "metadata": {},
   "source": [
    "# System poles"
   ]
  },
  {
   "cell_type": "code",
   "execution_count": null,
   "metadata": {
    "collapsed": false
   },
   "outputs": [],
   "source": [
    "lti.compute_poles()\n",
    "poles = lti._poles\n",
    "fig, ax = plt.subplots()\n",
    "ax.plot(poles.real, poles.imag, '.')\n",
    "ax.set_title('System poles')\n",
    "plt.show()"
   ]
  },
  {
   "cell_type": "markdown",
   "metadata": {},
   "source": [
    "# Bode plot of the full model"
   ]
  },
  {
   "cell_type": "code",
   "execution_count": null,
   "metadata": {
    "collapsed": false
   },
   "outputs": [],
   "source": [
    "w = np.logspace(-2, 3, 100)\n",
    "lti.bode(w)\n",
    "fig, ax = LTISystem.mag_plot(lti)\n",
    "ax.set_title('Bode plot of the full model')\n",
    "plt.show()"
   ]
  },
  {
   "cell_type": "markdown",
   "metadata": {},
   "source": [
    "# Hankel singular values"
   ]
  },
  {
   "cell_type": "code",
   "execution_count": null,
   "metadata": {
    "collapsed": false
   },
   "outputs": [],
   "source": [
    "lti.compute_sv_U_V('lyap')\n",
    "fig, ax = plt.subplots()\n",
    "ax.semilogy(range(1, len(lti._sv['lyap']) + 1), lti._sv['lyap'], '.-')\n",
    "ax.set_title('Hankel singular values')\n",
    "plt.show()"
   ]
  },
  {
   "cell_type": "markdown",
   "metadata": {},
   "source": [
    "# Norms of the system"
   ]
  },
  {
   "cell_type": "code",
   "execution_count": null,
   "metadata": {
    "collapsed": false
   },
   "outputs": [],
   "source": [
    "print('H_2-norm of the full model:   {}'.format(lti.norm()))\n",
    "print('H_inf-norm of the full model: {}'.format(lti.norm('Hinf')))"
   ]
  },
  {
   "cell_type": "markdown",
   "metadata": {},
   "source": [
    "# Balanced Truncation (BT)"
   ]
  },
  {
   "cell_type": "code",
   "execution_count": null,
   "metadata": {
    "collapsed": false
   },
   "outputs": [],
   "source": [
    "r = 5\n",
    "rom_bt, _, _ = bt(lti, r)"
   ]
  },
  {
   "cell_type": "code",
   "execution_count": null,
   "metadata": {
    "collapsed": false
   },
   "outputs": [],
   "source": [
    "print('H_2-norm of the BT ROM:       {}'.format(rom_bt.norm()))\n",
    "print('H_inf-norm of the BT ROM:     {}'.format(rom_bt.norm('Hinf')))\n",
    "err_bt = lti - rom_bt\n",
    "err_bt.compute_gramian('lyap', 'cf', me_solver='slycot')\n",
    "print('H_2-error for the BT ROM:     {}'.format(err_bt.norm()))\n",
    "print('H_inf-error for the BT ROM:   {}'.format(err_bt.norm('Hinf')))"
   ]
  },
  {
   "cell_type": "markdown",
   "metadata": {},
   "source": [
    "# Bode plot of the full and BT reduced model"
   ]
  },
  {
   "cell_type": "code",
   "execution_count": null,
   "metadata": {
    "collapsed": false
   },
   "outputs": [],
   "source": [
    "rom_bt.bode(w)\n",
    "fig, ax = LTISystem.mag_plot((lti, rom_bt))\n",
    "ax.set_title('Bode plot of the full and BT reduced model')\n",
    "plt.show()"
   ]
  },
  {
   "cell_type": "markdown",
   "metadata": {},
   "source": [
    "# Bode plot of the BT error system"
   ]
  },
  {
   "cell_type": "code",
   "execution_count": null,
   "metadata": {
    "collapsed": false
   },
   "outputs": [],
   "source": [
    "err_bt.bode(w)\n",
    "fig, ax = LTISystem.mag_plot(err_bt)\n",
    "ax.set_title('Bode plot of the BT error system')\n",
    "plt.show()"
   ]
  },
  {
   "cell_type": "markdown",
   "metadata": {},
   "source": [
    "# Iterative Rational Krylov Algorithm (IRKA)"
   ]
  },
  {
   "cell_type": "code",
   "execution_count": null,
   "metadata": {
    "collapsed": false
   },
   "outputs": [],
   "source": [
    "sigma = np.logspace(-1, 3, r)\n",
    "tol = 1e-4\n",
    "maxit = 100\n",
    "rom_irka, _, reduction_data_irka = irka(lti, r, sigma, tol=tol, maxit=maxit, verbose=True, compute_errors=False)"
   ]
  },
  {
   "cell_type": "code",
   "execution_count": null,
   "metadata": {
    "collapsed": false
   },
   "outputs": [],
   "source": [
    "tmp = [np.min(d) for d in reduction_data_irka['dist']]\n",
    "fig, ax = plt.subplots()\n",
    "ax.semilogy(tmp, '.-')\n",
    "ax.set_title('Distances between shifts in IRKA iterations')\n",
    "plt.show()"
   ]
  },
  {
   "cell_type": "code",
   "execution_count": null,
   "metadata": {
    "collapsed": false
   },
   "outputs": [],
   "source": [
    "print('H_2-norm of the IRKA ROM:     {}'.format(rom_irka.norm()))\n",
    "print('H_inf-norm of the IRKA ROM:   {}'.format(rom_irka.norm('Hinf')))\n",
    "err_irka = lti - rom_irka\n",
    "err_irka.compute_gramian('lyap', 'cf', me_solver='slycot')\n",
    "print('H_2-error for the IRKA ROM:   {}'.format(err_irka.norm()))\n",
    "print('H_inf-error for the IRKA ROM: {}'.format(err_irka.norm('Hinf')))"
   ]
  },
  {
   "cell_type": "markdown",
   "metadata": {},
   "source": [
    "# Bode plot of the full and IRKA reduced model"
   ]
  },
  {
   "cell_type": "code",
   "execution_count": null,
   "metadata": {
    "collapsed": false
   },
   "outputs": [],
   "source": [
    "rom_irka.bode(w)\n",
    "fig, ax = LTISystem.mag_plot((lti, rom_irka))\n",
    "ax.set_title('Bode plot of the full and IRKA reduced model')\n",
    "plt.show()"
   ]
  },
  {
   "cell_type": "markdown",
   "metadata": {},
   "source": [
    "# Bode plot of the IRKA error system"
   ]
  },
  {
   "cell_type": "code",
   "execution_count": null,
   "metadata": {
    "collapsed": false
   },
   "outputs": [],
   "source": [
    "err_irka.bode(w)\n",
    "fig, ax = LTISystem.mag_plot(err_irka)\n",
    "ax.set_title('Bode plot of the IRKA error system')\n",
    "plt.show()"
   ]
  }
 ],
 "metadata": {
  "kernelspec": {
   "display_name": "Python 3",
   "language": "python",
   "name": "python3"
  },
  "language_info": {
   "codemirror_mode": {
    "name": "ipython",
    "version": 3
   },
   "file_extension": ".py",
   "mimetype": "text/x-python",
   "name": "python",
   "nbconvert_exporter": "python",
   "pygments_lexer": "ipython3",
   "version": "3.4.3"
  }
 },
 "nbformat": 4,
 "nbformat_minor": 1
}
