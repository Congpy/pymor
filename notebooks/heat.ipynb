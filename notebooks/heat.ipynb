{
 "cells": [
  {
   "cell_type": "raw",
   "metadata": {},
   "source": [
    "This file is part of the pyMOR project (http://www.pymor.org).\n",
    "Copyright 2013-2016 pyMOR developers and contributors. All rights reserved.\n",
    "License: BSD 2-Clause License (http://opensource.org/licenses/BSD-2-Clause)"
   ]
  },
  {
   "cell_type": "markdown",
   "metadata": {},
   "source": [
    "# Heat equation example"
   ]
  },
  {
   "cell_type": "markdown",
   "metadata": {},
   "source": [
    "## Analytic problem formulation\n",
    "\n",
    "We consider the heat equation on the segment $[0, 1]$, with dissipation on both sides, heating (input) $u$ on the left, and measurement (output) $\\tilde{y}$ on the right:\n",
    "$$\n",
    "\\begin{align*}\n",
    "    \\partial_t T(z, t) & = \\partial_{zz} T(z, t), & 0 < z < 1,\\ t > 0, \\\\\n",
    "    \\partial_z T(0, t) & = T(0, t) - u(t), & t > 0, \\\\\n",
    "    \\partial_z T(1, t) & = -T(1, t), & t > 0, \\\\\n",
    "    \\tilde{y}(t) & = T(1, t), & t > 0.\n",
    "\\end{align*}\n",
    "$$\n",
    "\n",
    "## Semidiscretized formulation\n",
    "\n",
    "By central finite differences on the equidistant mesh $0 = z_1 < z_2 < \\ldots < z_n = 1$, we obtain the semidiscretized formulation:\n",
    "$$\n",
    "\\begin{align*}\n",
    "    \\dot{x}_i(t) & = \\frac{x_{i - 1}(t) - 2 x_i(t) + x_{i + 1}(t)}{h^2}, & i = 1, 2, 3, \\ldots, n - 1, n, \\\\\n",
    "    \\frac{x_2(t) - x_0(t)}{2 h} & = x_1(t) - u(t), \\\\\n",
    "    \\frac{x_{n + 1}(t) - x_{n - 1}(t)}{2 h} & = -x_n(t), \\\\\n",
    "    y(t) & = x_n(t),\n",
    "\\end{align*}\n",
    "$$\n",
    "where $h = \\frac{1}{n - 1}$, $x_i(t) \\approx T(z_i, t)$, and $y(t) \\approx \\tilde{y}(t)$.\n",
    "\n",
    "Separating cases $i = 1$ and $i = n$ in the first equation, we find:\n",
    "$$\n",
    "\\begin{alignat*}{3}\n",
    "    \\dot{x}_1(t) & = && -2 n (n - 1) x_1(t) && + 2 (n - 1)^2 x_2(t) + 2 (n - 1) u(t), \\\\\n",
    "    \\dot{x}_i(t) & = (n - 1)^2 x_{i - 1}(t) && - 2 (n - 1)^2 x_i(t) && + (n - 1)^2 x_{i + 1}(t),\n",
    "    && i = 2, 3, \\ldots, n - 1, \\\\\n",
    "    \\dot{x}_n(t) & = 2 (n - 1)^2 x_{n - 1}(t) && - 2 n (n - 1)  x_n(t), \\\\\n",
    "    y(t) & = x_n(t).\n",
    "\\end{alignat*}\n",
    "$$"
   ]
  },
  {
   "cell_type": "markdown",
   "metadata": {},
   "source": [
    "## Import modules"
   ]
  },
  {
   "cell_type": "code",
   "execution_count": null,
   "metadata": {},
   "outputs": [],
   "source": [
    "from __future__ import absolute_import, division, print_function\n",
    "\n",
    "import numpy as np\n",
    "import scipy.sparse as sps\n",
    "import matplotlib.pyplot as plt\n",
    "%matplotlib inline\n",
    "\n",
    "from pymor.discretizations.iosys import LTISystem\n",
    "from pymor.reductors.bt import bt\n",
    "from pymor.reductors.lti import irka, tsia\n",
    "\n",
    "import logging\n",
    "logging.getLogger('pymor.algorithms.gram_schmidt.gram_schmidt').setLevel(logging.ERROR)"
   ]
  },
  {
   "cell_type": "markdown",
   "metadata": {},
   "source": [
    "## Assemble $A$, $B$,  and $C$"
   ]
  },
  {
   "cell_type": "code",
   "execution_count": null,
   "metadata": {},
   "outputs": [],
   "source": [
    "n = 100  # dimension of the system\n",
    "\n",
    "A = sps.diags([n * [-2 * (n - 1) ** 2],\n",
    "               (n - 1) * [(n - 1) ** 2],\n",
    "               (n - 1) * [(n - 1) ** 2]],\n",
    "              [0, -1, 1],\n",
    "              format='csc')\n",
    "A[0, 0] = -2 * n * (n - 1)\n",
    "A[0, 1] *= 2\n",
    "A[-1, -1] = -2 * n * (n - 1)\n",
    "A[-1, -2] *= 2\n",
    "\n",
    "B = np.zeros((n, 1))\n",
    "B[0, 0] = 2 * (n - 1)\n",
    "\n",
    "C = np.zeros((1, n))\n",
    "C[0, n - 1] = 1"
   ]
  },
  {
   "cell_type": "markdown",
   "metadata": {},
   "source": [
    "## LTI system"
   ]
  },
  {
   "cell_type": "code",
   "execution_count": null,
   "metadata": {},
   "outputs": [],
   "source": [
    "lti = LTISystem.from_matrices(A, B, C)\n",
    "\n",
    "print('n = {}'.format(lti.n))\n",
    "print('m = {}'.format(lti.m))\n",
    "print('p = {}'.format(lti.p))"
   ]
  },
  {
   "cell_type": "code",
   "execution_count": null,
   "metadata": {},
   "outputs": [],
   "source": [
    "poles = lti.poles()\n",
    "fig, ax = plt.subplots()\n",
    "ax.plot(poles.real, poles.imag, '.')\n",
    "ax.set_title('System poles')\n",
    "plt.show()"
   ]
  },
  {
   "cell_type": "code",
   "execution_count": null,
   "metadata": {},
   "outputs": [],
   "source": [
    "w = np.logspace(-2, 3, 100)\n",
    "fig, ax = LTISystem.mag_plot(lti, w=w)\n",
    "ax.set_title('Bode plot of the full model')\n",
    "plt.show()"
   ]
  },
  {
   "cell_type": "code",
   "execution_count": null,
   "metadata": {},
   "outputs": [],
   "source": [
    "sv = lti.sv_U_V('lyap')[0]\n",
    "fig, ax = plt.subplots()\n",
    "ax.semilogy(range(1, len(sv) + 1), sv, '.-')\n",
    "ax.set_title('Hankel singular values')\n",
    "plt.show()"
   ]
  },
  {
   "cell_type": "code",
   "execution_count": null,
   "metadata": {},
   "outputs": [],
   "source": [
    "print('H_2-norm of the full model:   {}'.format(lti.norm()))\n",
    "print('H_inf-norm of the full model: {}'.format(lti.norm('Hinf')))"
   ]
  },
  {
   "cell_type": "markdown",
   "metadata": {},
   "source": [
    "## Balanced Truncation (BT)"
   ]
  },
  {
   "cell_type": "code",
   "execution_count": null,
   "metadata": {},
   "outputs": [],
   "source": [
    "r = 5\n",
    "rom_bt, _ = bt(lti, r, tol=1e-5)"
   ]
  },
  {
   "cell_type": "code",
   "execution_count": null,
   "metadata": {},
   "outputs": [],
   "source": [
    "print('H_2-norm of the BT ROM:       {}'.format(rom_bt.norm()))\n",
    "print('H_inf-norm of the BT ROM:     {}'.format(rom_bt.norm('Hinf')))\n",
    "err_bt = lti - rom_bt\n",
    "print('H_2-error for the BT ROM:     {}'.format(err_bt.norm()))\n",
    "print('H_inf-error for the BT ROM:   {}'.format(err_bt.norm('Hinf')))"
   ]
  },
  {
   "cell_type": "code",
   "execution_count": null,
   "metadata": {},
   "outputs": [],
   "source": [
    "fig, ax = LTISystem.mag_plot((lti, rom_bt), w=w)\n",
    "ax.set_title('Bode plot of the full and BT reduced model')\n",
    "plt.show()"
   ]
  },
  {
   "cell_type": "code",
   "execution_count": null,
   "metadata": {},
   "outputs": [],
   "source": [
    "fig, ax = LTISystem.mag_plot(err_bt, w=w)\n",
    "ax.set_title('Bode plot of the BT error system')\n",
    "plt.show()"
   ]
  },
  {
   "cell_type": "markdown",
   "metadata": {},
   "source": [
    "## Iterative Rational Krylov Algorithm (IRKA)"
   ]
  },
  {
   "cell_type": "code",
   "execution_count": null,
   "metadata": {},
   "outputs": [],
   "source": [
    "sigma = np.logspace(-1, 3, r)\n",
    "tol = 1e-4\n",
    "maxit = 100\n",
    "rom_irka, _, reduction_data_irka = irka(lti, r, sigma, tol=tol, maxit=maxit, verbose=True, compute_errors=True)"
   ]
  },
  {
   "cell_type": "code",
   "execution_count": null,
   "metadata": {},
   "outputs": [],
   "source": [
    "fig, ax = plt.subplots()\n",
    "ax.semilogy(reduction_data_irka['dist'], '.-')\n",
    "ax.set_title('Distances between shifts in IRKA iterations')\n",
    "plt.show()"
   ]
  },
  {
   "cell_type": "code",
   "execution_count": null,
   "metadata": {},
   "outputs": [],
   "source": [
    "print('H_2-norm of the IRKA ROM:     {}'.format(rom_irka.norm()))\n",
    "print('H_inf-norm of the IRKA ROM:   {}'.format(rom_irka.norm('Hinf')))\n",
    "err_irka = lti - rom_irka\n",
    "print('H_2-error for the IRKA ROM:   {}'.format(err_irka.norm()))\n",
    "print('H_inf-error for the IRKA ROM: {}'.format(err_irka.norm('Hinf')))"
   ]
  },
  {
   "cell_type": "code",
   "execution_count": null,
   "metadata": {},
   "outputs": [],
   "source": [
    "fig, ax = LTISystem.mag_plot((lti, rom_irka), w=w)\n",
    "ax.set_title('Bode plot of the full and IRKA reduced model')\n",
    "plt.show()"
   ]
  },
  {
   "cell_type": "code",
   "execution_count": null,
   "metadata": {},
   "outputs": [],
   "source": [
    "fig, ax = LTISystem.mag_plot(err_irka, w=w)\n",
    "ax.set_title('Bode plot of the IRKA error system')\n",
    "plt.show()"
   ]
  },
  {
   "cell_type": "markdown",
   "metadata": {},
   "source": [
    "## Two-Sided Iteration Algorithm (TSIA)"
   ]
  },
  {
   "cell_type": "code",
   "execution_count": null,
   "metadata": {},
   "outputs": [],
   "source": [
    "Ar = np.diag(-np.logspace(-1, 3, r))\n",
    "Br = np.ones((r, 1))\n",
    "Cr = np.ones((1, r))\n",
    "Er = np.eye(r)"
   ]
  },
  {
   "cell_type": "code",
   "execution_count": null,
   "metadata": {
    "collapsed": true
   },
   "outputs": [],
   "source": [
    "rom0 = LTISystem.from_matrices(Ar, Br, Cr, E=Er)"
   ]
  },
  {
   "cell_type": "code",
   "execution_count": null,
   "metadata": {},
   "outputs": [],
   "source": [
    "rom_tsia, _, rd_tsia = tsia(lti, rom0, verbose=True, compute_errors=True)"
   ]
  }
 ],
 "metadata": {
  "kernelspec": {
   "display_name": "Python 3",
   "language": "python",
   "name": "python3"
  },
  "language_info": {
   "codemirror_mode": {
    "name": "ipython",
    "version": 3
   },
   "file_extension": ".py",
   "mimetype": "text/x-python",
   "name": "python",
   "nbconvert_exporter": "python",
   "pygments_lexer": "ipython3",
   "version": "3.4.5"
  }
 },
 "nbformat": 4,
 "nbformat_minor": 1
}
