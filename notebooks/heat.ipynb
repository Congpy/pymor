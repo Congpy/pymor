{
 "cells": [
  {
   "cell_type": "raw",
   "metadata": {},
   "source": [
    "This file is part of the pyMOR project (http://www.pymor.org).\n",
    "Copyright 2013-2017 pyMOR developers and contributors. All rights reserved.\n",
    "License: BSD 2-Clause License (http://opensource.org/licenses/BSD-2-Clause)"
   ]
  },
  {
   "cell_type": "markdown",
   "metadata": {},
   "source": [
    "# Heat equation example"
   ]
  },
  {
   "cell_type": "markdown",
   "metadata": {},
   "source": [
    "## Analytic problem formulation\n",
    "\n",
    "We consider the heat equation on the segment $[0, 1]$, with dissipation on both sides, heating (input) $u$ on the left, and measurement (output) $\\tilde{y}$ on the right:\n",
    "$$\n",
    "\\begin{align*}\n",
    "    \\partial_t T(z, t) & = \\partial_{zz} T(z, t), & 0 < z < 1,\\ t > 0, \\\\\n",
    "    \\partial_z T(0, t) & = T(0, t) - u(t), & t > 0, \\\\\n",
    "    \\partial_z T(1, t) & = -T(1, t), & t > 0, \\\\\n",
    "    \\tilde{y}(t) & = T(1, t), & t > 0.\n",
    "\\end{align*}\n",
    "$$\n",
    "\n",
    "## Semidiscretized formulation\n",
    "\n",
    "By central finite differences on the equidistant mesh $0 = z_1 < z_2 < \\ldots < z_n = 1$, we obtain the semidiscretized formulation:\n",
    "$$\n",
    "\\begin{align*}\n",
    "    \\dot{x}_i(t) & = \\frac{x_{i - 1}(t) - 2 x_i(t) + x_{i + 1}(t)}{h^2}, & i = 1, 2, 3, \\ldots, n - 1, n, \\\\\n",
    "    \\frac{x_2(t) - x_0(t)}{2 h} & = x_1(t) - u(t), \\\\\n",
    "    \\frac{x_{n + 1}(t) - x_{n - 1}(t)}{2 h} & = -x_n(t), \\\\\n",
    "    y(t) & = x_n(t),\n",
    "\\end{align*}\n",
    "$$\n",
    "where $h = \\frac{1}{n - 1}$, $x_i(t) \\approx T(z_i, t)$, and $y(t) \\approx \\tilde{y}(t)$.\n",
    "\n",
    "Separating cases $i = 1$ and $i = n$ in the first equation, we find:\n",
    "$$\n",
    "\\begin{alignat*}{3}\n",
    "    \\dot{x}_1(t) & = && -2 n (n - 1) x_1(t) && + 2 (n - 1)^2 x_2(t) + 2 (n - 1) u(t), \\\\\n",
    "    \\dot{x}_i(t) & = (n - 1)^2 x_{i - 1}(t) && - 2 (n - 1)^2 x_i(t) && + (n - 1)^2 x_{i + 1}(t),\n",
    "    && i = 2, 3, \\ldots, n - 1, \\\\\n",
    "    \\dot{x}_n(t) & = 2 (n - 1)^2 x_{n - 1}(t) && - 2 n (n - 1)  x_n(t), \\\\\n",
    "    y(t) & = x_n(t).\n",
    "\\end{alignat*}\n",
    "$$"
   ]
  },
  {
   "cell_type": "markdown",
   "metadata": {},
   "source": [
    "## Import modules"
   ]
  },
  {
   "cell_type": "code",
   "execution_count": null,
   "metadata": {},
   "outputs": [],
   "source": [
    "import numpy as np\n",
    "import scipy.linalg as spla\n",
    "import scipy.sparse as sps\n",
    "import scipy.integrate as spint\n",
    "import matplotlib.pyplot as plt\n",
    "\n",
    "from pymor.discretizations.iosys import LTISystem, TransferFunction\n",
    "from pymor.reductors.bt import BTReductor, LQGBTReductor, BRBTReductor\n",
    "from pymor.reductors.lti import IRKAReductor, TSIAReductor\n",
    "from pymor.reductors.tf import TF_IRKAReductor\n",
    "\n",
    "import logging\n",
    "logging.getLogger('pymor.algorithms.gram_schmidt.gram_schmidt').setLevel(logging.ERROR)"
   ]
  },
  {
   "cell_type": "markdown",
   "metadata": {},
   "source": [
    "## Assemble $A$, $B$,  and $C$"
   ]
  },
  {
   "cell_type": "code",
   "execution_count": null,
   "metadata": {},
   "outputs": [],
   "source": [
    "n = 100  # dimension of the system\n",
    "\n",
    "A = sps.diags([n * [-2 * (n - 1) ** 2],\n",
    "               (n - 1) * [(n - 1) ** 2],\n",
    "               (n - 1) * [(n - 1) ** 2]],\n",
    "              [0, -1, 1],\n",
    "              format='csc')\n",
    "A[0, 0] = -2 * n * (n - 1)\n",
    "A[0, 1] *= 2\n",
    "A[-1, -1] = -2 * n * (n - 1)\n",
    "A[-1, -2] *= 2\n",
    "\n",
    "B = np.zeros((n, 1))\n",
    "B[0, 0] = 2 * (n - 1)\n",
    "\n",
    "C = np.zeros((1, n))\n",
    "C[0, n - 1] = 1"
   ]
  },
  {
   "cell_type": "markdown",
   "metadata": {},
   "source": [
    "## LTI system"
   ]
  },
  {
   "cell_type": "code",
   "execution_count": null,
   "metadata": {},
   "outputs": [],
   "source": [
    "lti = LTISystem.from_matrices(A, B, C)\n",
    "\n",
    "print('n = {}'.format(lti.n))\n",
    "print('m = {}'.format(lti.m))\n",
    "print('p = {}'.format(lti.p))"
   ]
  },
  {
   "cell_type": "code",
   "execution_count": null,
   "metadata": {},
   "outputs": [],
   "source": [
    "poles = lti.poles(force_dense=True)\n",
    "fig, ax = plt.subplots()\n",
    "ax.plot(poles.real, poles.imag, '.')\n",
    "ax.set_title('System poles')\n",
    "plt.show()"
   ]
  },
  {
   "cell_type": "code",
   "execution_count": null,
   "metadata": {},
   "outputs": [],
   "source": [
    "w = np.logspace(-2, 3, 100)\n",
    "fig, ax = LTISystem.mag_plot(lti, w=w)\n",
    "ax.set_title('Bode plot of the full model')\n",
    "plt.show()"
   ]
  },
  {
   "cell_type": "code",
   "execution_count": null,
   "metadata": {},
   "outputs": [],
   "source": [
    "hsv = lti.hsv()\n",
    "fig, ax = plt.subplots()\n",
    "ax.semilogy(range(1, len(hsv) + 1), hsv, '.-')\n",
    "ax.set_title('Hankel singular values')\n",
    "plt.show()"
   ]
  },
  {
   "cell_type": "code",
   "execution_count": null,
   "metadata": {},
   "outputs": [],
   "source": [
    "print('H_2-norm of the full model:    {:e}'.format(lti.h2_norm()))\n",
    "print('H_inf-norm of the full model:  {:e}'.format(lti.hinf_norm(force_dense=True)))\n",
    "print('Hankel-norm of the full model: {:e}'.format(lti.hankel_norm()))"
   ]
  },
  {
   "cell_type": "markdown",
   "metadata": {},
   "source": [
    "## Balanced Truncation (BT)"
   ]
  },
  {
   "cell_type": "code",
   "execution_count": null,
   "metadata": {},
   "outputs": [],
   "source": [
    "r = 5\n",
    "bt_reductor = BTReductor(lti)\n",
    "rom_bt = bt_reductor.reduce(r, tol=1e-5)"
   ]
  },
  {
   "cell_type": "code",
   "execution_count": null,
   "metadata": {},
   "outputs": [],
   "source": [
    "err_bt = lti - rom_bt\n",
    "print('H_2-error for the BT ROM:    {:e}'.format(err_bt.h2_norm()))\n",
    "print('H_inf-error for the BT ROM:  {:e}'.format(err_bt.hinf_norm(force_dense=True)))\n",
    "print('Hankel-error for the BT ROM: {:e}'.format(err_bt.hankel_norm()))"
   ]
  },
  {
   "cell_type": "code",
   "execution_count": null,
   "metadata": {},
   "outputs": [],
   "source": [
    "fig, ax = LTISystem.mag_plot((lti, rom_bt), w=w)\n",
    "ax.set_title('Bode plot of the full and BT reduced model')\n",
    "plt.show()"
   ]
  },
  {
   "cell_type": "code",
   "execution_count": null,
   "metadata": {},
   "outputs": [],
   "source": [
    "fig, ax = LTISystem.mag_plot(err_bt, w=w)\n",
    "ax.set_title('Bode plot of the BT error system')\n",
    "plt.show()"
   ]
  },
  {
   "cell_type": "markdown",
   "metadata": {},
   "source": [
    "## LQG Balanced Truncation (LQGBT)"
   ]
  },
  {
   "cell_type": "code",
   "execution_count": null,
   "metadata": {},
   "outputs": [],
   "source": [
    "r = 5\n",
    "lqgbt_reductor = LQGBTReductor(lti)\n",
    "rom_lqgbt = lqgbt_reductor.reduce(r, tol=1e-5)"
   ]
  },
  {
   "cell_type": "code",
   "execution_count": null,
   "metadata": {},
   "outputs": [],
   "source": [
    "err_lqgbt = lti - rom_lqgbt\n",
    "print('H_2-error for the LQGBT ROM:    {:e}'.format(err_lqgbt.h2_norm()))\n",
    "print('H_inf-error for the LQGBT ROM:  {:e}'.format(err_lqgbt.hinf_norm(force_dense=True)))\n",
    "print('Hankel-error for the LQGBT ROM: {:e}'.format(err_lqgbt.hankel_norm()))"
   ]
  },
  {
   "cell_type": "code",
   "execution_count": null,
   "metadata": {},
   "outputs": [],
   "source": [
    "fig, ax = LTISystem.mag_plot((lti, rom_lqgbt), w=w)\n",
    "ax.set_title('Bode plot of the full and LQGBT reduced model')\n",
    "plt.show()"
   ]
  },
  {
   "cell_type": "code",
   "execution_count": null,
   "metadata": {},
   "outputs": [],
   "source": [
    "fig, ax = LTISystem.mag_plot(err_lqgbt, w=w)\n",
    "ax.set_title('Bode plot of the LQGBT error system')\n",
    "plt.show()"
   ]
  },
  {
   "cell_type": "markdown",
   "metadata": {},
   "source": [
    "## Bounded Real Balanced Truncation (BRBT)"
   ]
  },
  {
   "cell_type": "code",
   "execution_count": null,
   "metadata": {},
   "outputs": [],
   "source": [
    "r = 5\n",
    "brbt_reductor = BRBTReductor(lti, 0.34)\n",
    "rom_brbt = brbt_reductor.reduce(r, tol=1e-5)"
   ]
  },
  {
   "cell_type": "code",
   "execution_count": null,
   "metadata": {},
   "outputs": [],
   "source": [
    "err_brbt = lti - rom_brbt\n",
    "print('H_2-error for the BRBT ROM:    {:e}'.format(err_brbt.h2_norm()))\n",
    "print('H_inf-error for the BRBT ROM:  {:e}'.format(err_brbt.hinf_norm(force_dense=True)))\n",
    "print('Hankel-error for the BRBT ROM: {:e}'.format(err_brbt.hankel_norm()))"
   ]
  },
  {
   "cell_type": "code",
   "execution_count": null,
   "metadata": {},
   "outputs": [],
   "source": [
    "fig, ax = LTISystem.mag_plot((lti, rom_brbt), w=w)\n",
    "ax.set_title('Bode plot of the full and BRBT reduced model')\n",
    "plt.show()"
   ]
  },
  {
   "cell_type": "code",
   "execution_count": null,
   "metadata": {},
   "outputs": [],
   "source": [
    "fig, ax = LTISystem.mag_plot(err_brbt, w=w)\n",
    "ax.set_title('Bode plot of the BRBT error system')\n",
    "plt.show()"
   ]
  },
  {
   "cell_type": "markdown",
   "metadata": {},
   "source": [
    "## Iterative Rational Krylov Algorithm (IRKA)"
   ]
  },
  {
   "cell_type": "code",
   "execution_count": null,
   "metadata": {},
   "outputs": [],
   "source": [
    "r = 5\n",
    "sigma = np.logspace(-1, 3, r)\n",
    "tol = 1e-4\n",
    "maxit = 100\n",
    "\n",
    "irka_reductor = IRKAReductor(lti)\n",
    "rom_irka = irka_reductor.reduce(r, sigma, tol=tol, maxit=maxit, compute_errors=True)"
   ]
  },
  {
   "cell_type": "code",
   "execution_count": null,
   "metadata": {},
   "outputs": [],
   "source": [
    "fig, ax = plt.subplots()\n",
    "ax.semilogy(irka_reductor.dist, '.-')\n",
    "ax.set_title('Distances between shifts in IRKA iterations')\n",
    "plt.show()"
   ]
  },
  {
   "cell_type": "code",
   "execution_count": null,
   "metadata": {},
   "outputs": [],
   "source": [
    "err_irka = lti - rom_irka\n",
    "print('H_2-error for the IRKA ROM:    {:e}'.format(err_irka.h2_norm()))\n",
    "print('H_inf-error for the IRKA ROM:  {:e}'.format(err_irka.hinf_norm(force_dense=True)))\n",
    "print('Hankel-error for the IRKA ROM: {:e}'.format(err_irka.hankel_norm()))"
   ]
  },
  {
   "cell_type": "code",
   "execution_count": null,
   "metadata": {},
   "outputs": [],
   "source": [
    "fig, ax = LTISystem.mag_plot((lti, rom_irka), w=w)\n",
    "ax.set_title('Bode plot of the full and IRKA reduced model')\n",
    "plt.show()"
   ]
  },
  {
   "cell_type": "code",
   "execution_count": null,
   "metadata": {},
   "outputs": [],
   "source": [
    "fig, ax = LTISystem.mag_plot(err_irka, w=w)\n",
    "ax.set_title('Bode plot of the IRKA error system')\n",
    "plt.show()"
   ]
  },
  {
   "cell_type": "markdown",
   "metadata": {},
   "source": [
    "## Two-Sided Iteration Algorithm (TSIA)"
   ]
  },
  {
   "cell_type": "code",
   "execution_count": null,
   "metadata": {},
   "outputs": [],
   "source": [
    "r = 5\n",
    "Ar = np.diag(-np.logspace(-1, 3, r))\n",
    "Br = np.ones((r, 1))\n",
    "Cr = np.ones((1, r))\n",
    "Er = np.eye(r)\n",
    "\n",
    "rom0 = LTISystem.from_matrices(Ar, Br, Cr, E=Er)\n",
    "\n",
    "tsia_reductor = TSIAReductor(lti)\n",
    "rom_tsia = tsia_reductor.reduce(rom0, compute_errors=True)"
   ]
  },
  {
   "cell_type": "markdown",
   "metadata": {},
   "source": [
    "## Transfer Function IRKA (TF-IRKA)\n",
    "\n",
    "Applying Laplace transformation to the original PDE formulation, we obtain a parametric boundary value problem\n",
    "$$\n",
    "\\begin{align*}\n",
    "    s \\hat{T}(z, s) & = \\partial_{zz} \\hat{T}(z, s), \\\\\n",
    "    \\partial_z \\hat{T}(0, s) & = \\hat{T}(0, s) - \\hat{u}(s), \\\\\n",
    "    \\partial_z \\hat{T}(1, s) & = -\\hat{T}(1, s), \\\\\n",
    "    \\hat{\\tilde{y}}(s) & = \\hat{T}(1, s),\n",
    "\\end{align*}\n",
    "$$\n",
    "where $\\hat{T}$, $\\hat{u}$, and $\\hat{\\tilde{y}}$ are respectively Laplace transforms of $T$, $u$, and $\\tilde{y}$.\n",
    "We assumed the initial condition to be zero ($T(z, 0) = 0$).\n",
    "The parameter $s$ is any complex number in the region convergence of the Laplace tranformation.\n",
    "\n",
    "Inserting $\\hat{T}(z, s) = c_1 \\exp\\left(\\sqrt{s} z\\right) + c_2 \\exp\\left(-\\sqrt{s} z\\right)$, from the boundary conditions we get a system of equations\n",
    "$$\n",
    "\\begin{align*}\n",
    "    \\left(\\sqrt{s} - 1\\right) c_1\n",
    "    - \\left(\\sqrt{s} + 1\\right) c_2 + \\hat{u}(s) & = 0, \\\\\n",
    "    \\left(\\sqrt{s} + 1\\right) \\exp\\left(\\sqrt{s}\\right) c_1\n",
    "    - \\left(\\sqrt{s} - 1\\right) \\exp\\left(-\\sqrt{s}\\right) c_2 & = 0.\n",
    "\\end{align*}\n",
    "$$\n",
    "We can solve it using `sympy` and then find the transfer function ($\\hat{\\tilde{y}}(s) / \\hat{u}(s)$)."
   ]
  },
  {
   "cell_type": "code",
   "execution_count": null,
   "metadata": {},
   "outputs": [],
   "source": [
    "import sympy as sy\n",
    "sy.init_printing()\n",
    "\n",
    "sy_s, sy_u, sy_c1, sy_c2 = sy.symbols('s u c1 c2')\n",
    "\n",
    "sol = sy.solve([(sy.sqrt(sy_s) - 1) * sy_c1 - (sy.sqrt(sy_s) + 1) * sy_c2 + sy_u,\n",
    "                (sy.sqrt(sy_s) + 1) * sy.exp(sy.sqrt(sy_s)) * sy_c1 -\n",
    "                (sy.sqrt(sy_s) - 1) * sy.exp(-sy.sqrt(sy_s)) * sy_c2],\n",
    "               [sy_c1, sy_c2])\n",
    "\n",
    "y = sol[sy_c1] * sy.exp(sy.sqrt(sy_s)) + sol[sy_c2] * sy.exp(-sy.sqrt(sy_s))\n",
    "\n",
    "tf = sy.simplify(y / sy_u)\n",
    "tf"
   ]
  },
  {
   "cell_type": "markdown",
   "metadata": {},
   "source": [
    "Notice that for $s = 0$, the expression is of the form $0 / 0$."
   ]
  },
  {
   "cell_type": "code",
   "execution_count": null,
   "metadata": {},
   "outputs": [],
   "source": [
    "sy.limit(tf, sy_s, 0)"
   ]
  },
  {
   "cell_type": "code",
   "execution_count": null,
   "metadata": {},
   "outputs": [],
   "source": [
    "dtf = tf.diff(sy_s)\n",
    "dtf"
   ]
  },
  {
   "cell_type": "code",
   "execution_count": null,
   "metadata": {},
   "outputs": [],
   "source": [
    "sy.limit(dtf, sy_s, 0)"
   ]
  },
  {
   "cell_type": "markdown",
   "metadata": {},
   "source": [
    "We can now form the transfer function system."
   ]
  },
  {
   "cell_type": "code",
   "execution_count": null,
   "metadata": {},
   "outputs": [],
   "source": [
    "def H(s):\n",
    "    if s == 0:\n",
    "        return np.array([[1 / 3]])\n",
    "    else:\n",
    "        return np.array([[complex(tf.subs(sy_s, s))]])"
   ]
  },
  {
   "cell_type": "code",
   "execution_count": null,
   "metadata": {},
   "outputs": [],
   "source": [
    "def dH(s):\n",
    "    if s == 0:\n",
    "        return np.array([[-13 / 54]])\n",
    "    else:\n",
    "        return np.array([[complex(dtf.subs(sy_s, s))]])"
   ]
  },
  {
   "cell_type": "code",
   "execution_count": null,
   "metadata": {},
   "outputs": [],
   "source": [
    "tf_sys = TransferFunction(1, 1, H, dH)"
   ]
  },
  {
   "cell_type": "markdown",
   "metadata": {},
   "source": [
    "Here we compare it to the discretized system, by Bode plot, $\\mathcal{H}_2$-norm, and $\\mathcal{H}_2$-distance."
   ]
  },
  {
   "cell_type": "code",
   "execution_count": null,
   "metadata": {},
   "outputs": [],
   "source": [
    "tf_sys_w = tf_sys.bode(w)\n",
    "lti_w = lti.bode(w)"
   ]
  },
  {
   "cell_type": "code",
   "execution_count": null,
   "metadata": {},
   "outputs": [],
   "source": [
    "fig, ax = plt.subplots()\n",
    "ax.loglog(w, spla.norm(tf_sys_w - lti_w, axis=(0, 1)))\n",
    "ax.set_title('Distance between PDE and discretized transfer function')\n",
    "plt.show()"
   ]
  },
  {
   "cell_type": "code",
   "execution_count": null,
   "metadata": {},
   "outputs": [],
   "source": [
    "tf_H2_int, int_err = spint.quad(lambda w: spla.norm(tf_sys.eval_tf(w * 1j)) ** 2, -np.inf, np.inf)\n",
    "print((tf_H2_int, int_err))"
   ]
  },
  {
   "cell_type": "code",
   "execution_count": null,
   "metadata": {},
   "outputs": [],
   "source": [
    "print('H_2-norm of the transfer function  = {:e}'.format(np.sqrt(tf_H2_int / 2 / np.pi)))\n",
    "print('H_2-norm of the discretized system = {:e}'.format(lti.h2_norm()))"
   ]
  },
  {
   "cell_type": "code",
   "execution_count": null,
   "metadata": {},
   "outputs": [],
   "source": [
    "dist_H2_int, dist_int_err = spint.quad(lambda w: spla.norm(tf_sys.eval_tf(w * 1j) - lti.eval_tf(w * 1j)) ** 2,\n",
    "                                       -np.inf, np.inf, epsabs=1e-16)\n",
    "print((dist_H2_int, dist_int_err))"
   ]
  },
  {
   "cell_type": "code",
   "execution_count": null,
   "metadata": {},
   "outputs": [],
   "source": [
    "print('H_2-distance = {:e}'.format(np.sqrt(dist_H2_int / 2 / np.pi)))"
   ]
  },
  {
   "cell_type": "markdown",
   "metadata": {},
   "source": [
    "TF-IRKA finds a reduced model from the transfer function."
   ]
  },
  {
   "cell_type": "code",
   "execution_count": null,
   "metadata": {},
   "outputs": [],
   "source": [
    "tf_irka_reductor = TF_IRKAReductor(tf_sys)\n",
    "rom_tf_irka = tf_irka_reductor.reduce(r)"
   ]
  },
  {
   "cell_type": "markdown",
   "metadata": {},
   "source": [
    "Here we compute the $\\mathcal{H}_2$-distance from the original PDE model to the TF-IRKA's reduced model and to the IRKA's reduced model."
   ]
  },
  {
   "cell_type": "code",
   "execution_count": null,
   "metadata": {},
   "outputs": [],
   "source": [
    "error_H2, error_int_err = spint.quad(lambda w: spla.norm(tf_sys.eval_tf(w * 1j) -\n",
    "                                                         rom_tf_irka.eval_tf(w * 1j)) ** 2,\n",
    "                                     -np.inf, np.inf, epsabs=1e-16)\n",
    "print((error_H2, error_int_err))"
   ]
  },
  {
   "cell_type": "code",
   "execution_count": null,
   "metadata": {},
   "outputs": [],
   "source": [
    "print('H_2-error of TF-IRKA ROM = {:e}'.format(np.sqrt(error_H2 / 2 / np.pi)))"
   ]
  },
  {
   "cell_type": "code",
   "execution_count": null,
   "metadata": {},
   "outputs": [],
   "source": [
    "error_irka_H2, error_irka_int_err = spint.quad(lambda w: spla.norm(tf_sys.eval_tf(w * 1j) -\n",
    "                                                                   rom_irka.eval_tf(w * 1j)) ** 2,\n",
    "                                               -np.inf, np.inf, epsabs=1e-16)\n",
    "print((error_irka_H2, error_irka_int_err))"
   ]
  },
  {
   "cell_type": "code",
   "execution_count": null,
   "metadata": {},
   "outputs": [],
   "source": [
    "print('H_2-error of IRKA ROM = {:e}'.format(np.sqrt(error_irka_H2 / 2 / np.pi)))"
   ]
  }
 ],
 "metadata": {
  "kernelspec": {
   "display_name": "Python 3",
   "language": "python",
   "name": "python3"
  },
  "language_info": {
   "codemirror_mode": {
    "name": "ipython",
    "version": 3
   },
   "file_extension": ".py",
   "mimetype": "text/x-python",
   "name": "python",
   "nbconvert_exporter": "python",
   "pygments_lexer": "ipython3",
   "version": "3.5.5"
  }
 },
 "nbformat": 4,
 "nbformat_minor": 1
}
